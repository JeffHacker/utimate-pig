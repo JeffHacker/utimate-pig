{
 "cells": [
  {
   "cell_type": "code",
   "execution_count": 206,
   "metadata": {
    "collapsed": false
   },
   "outputs": [],
   "source": [
    "import random\n",
    "import statistics\n",
    "import matplotlib.pyplot as plt\n",
    "%matplotlib inline"
   ]
  },
  {
   "cell_type": "code",
   "execution_count": 233,
   "metadata": {
    "collapsed": true
   },
   "outputs": [],
   "source": [
    "class Player:\n",
    "    def __init__(self, name, max_risk=None):\n",
    "        self.name = name\n",
    "        self.score = 0\n",
    "        self.turn_score = 0\n",
    "        #max risk per turn\n",
    "        self.max_risk = 0\n",
    "        self.die = 0\n",
    "\n",
    "    def turn(self):\n",
    "        self.die = random.choice([1, 2, 3, 4, 5, 6])\n",
    "        d = self.die\n",
    "        self.game_score()\n",
    "\n",
    "    def game_score(self):\n",
    "        if self.die == 1:\n",
    "            self.turn_score = 0\n",
    "            return\n",
    "        else:\n",
    "            self.turn_score += self.die\n",
    "            self.roll_again()\n",
    "\n",
    "    def roll_again(self):\n",
    "        if self.turn_score >= self.max_risk:\n",
    "            self.score += self.turn_score\n",
    "            self.turn_score = 0\n",
    "            return\n",
    "        else:\n",
    "            self.turn_score = 0\n",
    "            self.turn()\n"
   ]
  },
  {
   "cell_type": "code",
   "execution_count": 234,
   "metadata": {
    "collapsed": true
   },
   "outputs": [],
   "source": [
    "class Game:\n",
    "    def __init__(self, player1, player2):\n",
    "        self.round = 0\n",
    "\n",
    "    def start_game(self):\n",
    "        while self.round <= 6:\n",
    "            self.round +=1\n",
    "            player1.turn()\n",
    "            player2.turn()\n",
    "\n",
    "    def end_game(self):\n",
    "        return"
   ]
  },
  {
   "cell_type": "markdown",
   "metadata": {},
   "source": [
    "####Basic Player will play all games risking only one roll (never risking or getting more than a six).\n",
    "####Strategy Player will always risk another roll while score is between 10 - 49 points and will increase the risk by one point every 100 games."
   ]
  },
  {
   "cell_type": "code",
   "execution_count": 235,
   "metadata": {
    "collapsed": false
   },
   "outputs": [],
   "source": [
    "p1_risk = 6\n",
    "p2_risk = 10\n",
    "p1_ave = []\n",
    "p2_ave = []\n",
    "p1_risk_list = []\n",
    "p2_risk_list = []\n",
    "for _ in range(40):\n",
    "    count = 0\n",
    "    # List of scores to be averaged later\n",
    "    p1 = []\n",
    "    p2 = []\n",
    "    while count <= 99:\n",
    "        count += 1\n",
    "        #always rolls once only per turn\n",
    "        player1 = Player(name='Basic Player')\n",
    "        #increasing max_risk every 100 plays\n",
    "        player2 = Player(name='Strategy Player', max_risk=p2_risk)\n",
    "        #increasing max_risk every 100 plays\n",
    "        game = Game(player1, player2)\n",
    "        game.start_game()\n",
    "        p1.append(player1.score)\n",
    "        p2.append(player2.score)\n",
    "    p1_ave.append(statistics.mean(p1))\n",
    "    p2_ave.append(statistics.mean(p2))\n",
    "    p1_risk_list.append(p1_risk)\n",
    "    p2_risk_list.append(p2_risk)\n",
    "    p2_risk += 1"
   ]
  },
  {
   "cell_type": "code",
   "execution_count": null,
   "metadata": {
    "collapsed": true
   },
   "outputs": [],
   "source": []
  },
  {
   "cell_type": "code",
   "execution_count": null,
   "metadata": {
    "collapsed": true
   },
   "outputs": [],
   "source": []
  },
  {
   "cell_type": "markdown",
   "metadata": {},
   "source": [
    "#####At first glance, it appears below that the player who only rolls once per turn (never able to achieve more than 6 on a turn), averages scores in a similar range to the average scores of the player who's risk tolerance stopped between 10 - 49 points on a roll."
   ]
  },
  {
   "cell_type": "code",
   "execution_count": 236,
   "metadata": {
    "collapsed": false
   },
   "outputs": [
    {
     "data": {
      "text/plain": [
       "<matplotlib.text.Text at 0x1165d4ef0>"
      ]
     },
     "execution_count": 236,
     "metadata": {},
     "output_type": "execute_result"
    },
    {
     "data": {
      "image/png": "[encoded data removed]",
      "text/plain": [
       "<matplotlib.figure.Figure at 0x1166edeb8>"
      ]
     },
     "metadata": {},
     "output_type": "display_data"
    }
   ],
   "source": [
    "x1 = p1_risk_list, p2_risk_list \n",
    "y1 = p1_ave, p2_ave\n",
    "plt.scatter(x1, y1)\n",
    "plt.title(\"Player 1 (one roll per turn) vs. Player 2 results\")\n",
    "plt.ylabel(\"Average points per 7-turn game\")\n",
    "plt.xlabel(\"Maximum point-risk per turn\")"
   ]
  },
  {
   "cell_type": "code",
   "execution_count": null,
   "metadata": {
    "collapsed": true
   },
   "outputs": [],
   "source": []
  },
  {
   "cell_type": "code",
   "execution_count": null,
   "metadata": {
    "collapsed": true
   },
   "outputs": [],
   "source": []
  },
  {
   "cell_type": "markdown",
   "metadata": {},
   "source": [
    "###### Below: When playing 100 games of Pig per level of risk (taking no more rolls after reaching the defined level of risk or higher on a final roll) the best average scores fall consistently around the 26-27 points max risk\n",
    "#####However, suprisingly, 26, 35, 40-42 and up until around 47-48 points max risk often show a similarly good average score.\n",
    "##### There is still a lot of variation in the results between batches of 100 games run, but the same peaks do seem to fall in the same areas over time.\n",
    "###27 is my pick for best strategy from these tests"
   ]
  },
  {
   "cell_type": "code",
   "execution_count": 237,
   "metadata": {
    "collapsed": false
   },
   "outputs": [
    {
     "data": {
      "text/plain": [
       "<matplotlib.text.Text at 0x116836320>"
      ]
     },
     "execution_count": 237,
     "metadata": {},
     "output_type": "execute_result"
    },
    {
     "data": {
      "image/png": "[encoded data removed]",
      "text/plain": [
       "<matplotlib.figure.Figure at 0x1168526d8>"
      ]
     },
     "metadata": {},
     "output_type": "display_data"
    }
   ],
   "source": [
    "x1 = p2_risk_list \n",
    "y1 = p2_ave\n",
    "plt.plot(x1, y1)\n",
    "plt.ylabel(\"Average points per 7-turn game\")\n",
    "plt.xlabel(\"Maximum point-risk per turn\")"
   ]
  },
  {
   "cell_type": "code",
   "execution_count": null,
   "metadata": {
    "collapsed": true
   },
   "outputs": [],
   "source": []
  },
  {
   "cell_type": "code",
   "execution_count": null,
   "metadata": {
    "collapsed": true
   },
   "outputs": [],
   "source": []
  }
 ],
 "metadata": {
  "kernelspec": {
   "display_name": "Python 3",
   "language": "python",
   "name": "python3"
  },
  "language_info": {
   "codemirror_mode": {
    "name": "ipython",
    "version": 3
   },
   "file_extension": ".py",
   "mimetype": "text/x-python",
   "name": "python",
   "nbconvert_exporter": "python",
   "pygments_lexer": "ipython3",
   "version": "3.4.3"
  }
 },
 "nbformat": 4,
 "nbformat_minor": 0
}
